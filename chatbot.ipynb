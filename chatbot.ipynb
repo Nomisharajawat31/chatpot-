{
 "cells": [
  {
   "cell_type": "markdown",
   "id": "1eb35e1d",
   "metadata": {},
   "source": [
    "# 1. Install Required Libraries:\n",
    "    \n",
    "langchain: Framework for AI-powered applications.\n",
    "\n",
    "openai: Access to GPT models.\n",
    "\n",
    "chromadb: Vector database to store embeddings.\n",
    "\n",
    "pandas: Handles CSV/Excel files.\n",
    "\n",
    "pypdf: Reads and extracts text from PDFs.\n",
    "\n",
    "python-docx: Reads DOCX files.\n",
    "\n"
   ]
  },
  {
   "cell_type": "code",
   "execution_count": 13,
   "id": "23d02d33",
   "metadata": {},
   "outputs": [
    {
     "name": "stdout",
     "output_type": "stream",
     "text": [
      "Requirement already satisfied: langchain in c:\\users\\nomisha\\anaconda4\\lib\\site-packages (0.3.21)\n",
      "Requirement already satisfied: openai in c:\\users\\nomisha\\appdata\\roaming\\python\\python311\\site-packages (1.63.1)\n",
      "Requirement already satisfied: chromadb in c:\\users\\nomisha\\anaconda4\\lib\\site-packages (0.6.3)\n",
      "Requirement already satisfied: pandas in c:\\users\\nomisha\\appdata\\roaming\\python\\python311\\site-packages (2.2.3)\n",
      "Requirement already satisfied: pypdf in c:\\users\\nomisha\\appdata\\roaming\\python\\python311\\site-packages (5.3.0)\n",
      "Requirement already satisfied: python-docx in c:\\users\\nomisha\\anaconda4\\lib\\site-packages (1.1.2)\n",
      "Requirement already satisfied: langchain-core<1.0.0,>=0.3.45 in c:\\users\\nomisha\\anaconda4\\lib\\site-packages (from langchain) (0.3.49)\n",
      "Requirement already satisfied: langchain-text-splitters<1.0.0,>=0.3.7 in c:\\users\\nomisha\\anaconda4\\lib\\site-packages (from langchain) (0.3.7)\n",
      "Requirement already satisfied: langsmith<0.4,>=0.1.17 in c:\\users\\nomisha\\anaconda4\\lib\\site-packages (from langchain) (0.3.19)\n",
      "Requirement already satisfied: pydantic<3.0.0,>=2.7.4 in c:\\users\\nomisha\\appdata\\roaming\\python\\python311\\site-packages (from langchain) (2.10.6)\n",
      "Requirement already satisfied: SQLAlchemy<3,>=1.4 in c:\\users\\nomisha\\appdata\\roaming\\python\\python311\\site-packages (from langchain) (2.0.38)\n",
      "Requirement already satisfied: requests<3,>=2 in c:\\users\\nomisha\\appdata\\roaming\\python\\python311\\site-packages (from langchain) (2.32.3)\n",
      "Requirement already satisfied: PyYAML>=5.3 in c:\\users\\nomisha\\appdata\\roaming\\python\\python311\\site-packages (from langchain) (6.0.2)\n",
      "Requirement already satisfied: anyio<5,>=3.5.0 in c:\\users\\nomisha\\appdata\\roaming\\python\\python311\\site-packages (from openai) (4.8.0)\n",
      "Requirement already satisfied: distro<2,>=1.7.0 in c:\\users\\nomisha\\appdata\\roaming\\python\\python311\\site-packages (from openai) (1.9.0)\n",
      "Requirement already satisfied: httpx<1,>=0.23.0 in c:\\users\\nomisha\\appdata\\roaming\\python\\python311\\site-packages (from openai) (0.28.1)\n",
      "Requirement already satisfied: jiter<1,>=0.4.0 in c:\\users\\nomisha\\appdata\\roaming\\python\\python311\\site-packages (from openai) (0.8.2)\n",
      "Requirement already satisfied: sniffio in c:\\users\\nomisha\\appdata\\roaming\\python\\python311\\site-packages (from openai) (1.3.1)\n",
      "Requirement already satisfied: tqdm>4 in c:\\users\\nomisha\\appdata\\roaming\\python\\python311\\site-packages (from openai) (4.67.1)\n",
      "Requirement already satisfied: typing-extensions<5,>=4.11 in c:\\users\\nomisha\\appdata\\roaming\\python\\python311\\site-packages (from openai) (4.12.2)\n",
      "Requirement already satisfied: build>=1.0.3 in c:\\users\\nomisha\\anaconda4\\lib\\site-packages (from chromadb) (1.2.2.post1)\n",
      "Requirement already satisfied: chroma-hnswlib==0.7.6 in c:\\users\\nomisha\\anaconda4\\lib\\site-packages (from chromadb) (0.7.6)\n",
      "Requirement already satisfied: fastapi>=0.95.2 in c:\\users\\nomisha\\anaconda4\\lib\\site-packages (from chromadb) (0.115.12)\n",
      "Requirement already satisfied: uvicorn[standard]>=0.18.3 in c:\\users\\nomisha\\anaconda4\\lib\\site-packages (from chromadb) (0.34.0)\n",
      "Requirement already satisfied: numpy>=1.22.5 in c:\\users\\nomisha\\anaconda4\\lib\\site-packages (from chromadb) (1.24.3)\n",
      "Requirement already satisfied: posthog>=2.4.0 in c:\\users\\nomisha\\anaconda4\\lib\\site-packages (from chromadb) (3.23.0)\n",
      "Requirement already satisfied: onnxruntime>=1.14.1 in c:\\users\\nomisha\\anaconda4\\lib\\site-packages (from chromadb) (1.21.0)\n",
      "Requirement already satisfied: opentelemetry-api>=1.2.0 in c:\\users\\nomisha\\anaconda4\\lib\\site-packages (from chromadb) (1.31.1)\n",
      "Requirement already satisfied: opentelemetry-exporter-otlp-proto-grpc>=1.2.0 in c:\\users\\nomisha\\anaconda4\\lib\\site-packages (from chromadb) (1.31.1)\n",
      "Requirement already satisfied: opentelemetry-instrumentation-fastapi>=0.41b0 in c:\\users\\nomisha\\anaconda4\\lib\\site-packages (from chromadb) (0.52b1)\n",
      "Requirement already satisfied: opentelemetry-sdk>=1.2.0 in c:\\users\\nomisha\\anaconda4\\lib\\site-packages (from chromadb) (1.31.1)\n",
      "Requirement already satisfied: tokenizers>=0.13.2 in c:\\users\\nomisha\\anaconda4\\lib\\site-packages (from chromadb) (0.21.1)\n",
      "Requirement already satisfied: pypika>=0.48.9 in c:\\users\\nomisha\\anaconda4\\lib\\site-packages (from chromadb) (0.48.9)\n",
      "Requirement already satisfied: overrides>=7.3.1 in c:\\users\\nomisha\\anaconda4\\lib\\site-packages (from chromadb) (7.7.0)\n",
      "Requirement already satisfied: importlib-resources in c:\\users\\nomisha\\anaconda4\\lib\\site-packages (from chromadb) (6.5.2)\n",
      "Requirement already satisfied: grpcio>=1.58.0 in c:\\users\\nomisha\\anaconda4\\lib\\site-packages (from chromadb) (1.71.0)\n",
      "Requirement already satisfied: bcrypt>=4.0.1 in c:\\users\\nomisha\\anaconda4\\lib\\site-packages (from chromadb) (4.3.0)\n",
      "Requirement already satisfied: typer>=0.9.0 in c:\\users\\nomisha\\anaconda4\\lib\\site-packages (from chromadb) (0.15.2)\n",
      "Requirement already satisfied: kubernetes>=28.1.0 in c:\\users\\nomisha\\anaconda4\\lib\\site-packages (from chromadb) (32.0.1)\n",
      "Requirement already satisfied: tenacity>=8.2.3 in c:\\users\\nomisha\\appdata\\roaming\\python\\python311\\site-packages (from chromadb) (9.0.0)\n",
      "Requirement already satisfied: mmh3>=4.0.1 in c:\\users\\nomisha\\anaconda4\\lib\\site-packages (from chromadb) (5.1.0)\n",
      "Requirement already satisfied: orjson>=3.9.12 in c:\\users\\nomisha\\anaconda4\\lib\\site-packages (from chromadb) (3.10.16)\n",
      "Requirement already satisfied: rich>=10.11.0 in c:\\users\\nomisha\\anaconda4\\lib\\site-packages (from chromadb) (13.9.4)\n",
      "Requirement already satisfied: python-dateutil>=2.8.2 in c:\\users\\nomisha\\appdata\\roaming\\python\\python311\\site-packages (from pandas) (2.9.0.post0)\n",
      "Requirement already satisfied: pytz>=2020.1 in c:\\users\\nomisha\\appdata\\roaming\\python\\python311\\site-packages (from pandas) (2025.1)\n",
      "Requirement already satisfied: tzdata>=2022.7 in c:\\users\\nomisha\\appdata\\roaming\\python\\python311\\site-packages (from pandas) (2025.1)\n",
      "Requirement already satisfied: lxml>=3.1.0 in c:\\users\\nomisha\\anaconda4\\lib\\site-packages (from python-docx) (4.9.2)\n",
      "Requirement already satisfied: idna>=2.8 in c:\\users\\nomisha\\appdata\\roaming\\python\\python311\\site-packages (from anyio<5,>=3.5.0->openai) (3.10)\n",
      "Requirement already satisfied: packaging>=19.1 in c:\\users\\nomisha\\appdata\\roaming\\python\\python311\\site-packages (from build>=1.0.3->chromadb) (24.2)\n",
      "Requirement already satisfied: pyproject_hooks in c:\\users\\nomisha\\anaconda4\\lib\\site-packages (from build>=1.0.3->chromadb) (1.2.0)\n",
      "Requirement already satisfied: colorama in c:\\users\\nomisha\\appdata\\roaming\\python\\python311\\site-packages (from build>=1.0.3->chromadb) (0.4.6)\n",
      "Requirement already satisfied: starlette<0.47.0,>=0.40.0 in c:\\users\\nomisha\\anaconda4\\lib\\site-packages (from fastapi>=0.95.2->chromadb) (0.46.1)\n",
      "Requirement already satisfied: certifi in c:\\users\\nomisha\\appdata\\roaming\\python\\python311\\site-packages (from httpx<1,>=0.23.0->openai) (2025.1.31)\n",
      "Requirement already satisfied: httpcore==1.* in c:\\users\\nomisha\\appdata\\roaming\\python\\python311\\site-packages (from httpx<1,>=0.23.0->openai) (1.0.7)\n",
      "Requirement already satisfied: h11<0.15,>=0.13 in c:\\users\\nomisha\\appdata\\roaming\\python\\python311\\site-packages (from httpcore==1.*->httpx<1,>=0.23.0->openai) (0.14.0)\n",
      "Requirement already satisfied: six>=1.9.0 in c:\\users\\nomisha\\appdata\\roaming\\python\\python311\\site-packages (from kubernetes>=28.1.0->chromadb) (1.17.0)\n",
      "Requirement already satisfied: google-auth>=1.0.1 in c:\\users\\nomisha\\anaconda4\\lib\\site-packages (from kubernetes>=28.1.0->chromadb) (2.38.0)\n",
      "Requirement already satisfied: websocket-client!=0.40.0,!=0.41.*,!=0.42.*,>=0.32.0 in c:\\users\\nomisha\\anaconda4\\lib\\site-packages (from kubernetes>=28.1.0->chromadb) (0.58.0)\n",
      "Requirement already satisfied: requests-oauthlib in c:\\users\\nomisha\\anaconda4\\lib\\site-packages (from kubernetes>=28.1.0->chromadb) (2.0.0)\n",
      "Requirement already satisfied: oauthlib>=3.2.2 in c:\\users\\nomisha\\anaconda4\\lib\\site-packages (from kubernetes>=28.1.0->chromadb) (3.2.2)\n",
      "Requirement already satisfied: urllib3>=1.24.2 in c:\\users\\nomisha\\appdata\\roaming\\python\\python311\\site-packages (from kubernetes>=28.1.0->chromadb) (2.3.0)\n",
      "Requirement already satisfied: durationpy>=0.7 in c:\\users\\nomisha\\anaconda4\\lib\\site-packages (from kubernetes>=28.1.0->chromadb) (0.9)\n",
      "Requirement already satisfied: jsonpatch<2.0,>=1.33 in c:\\users\\nomisha\\anaconda4\\lib\\site-packages (from langchain-core<1.0.0,>=0.3.45->langchain) (1.33)\n",
      "Requirement already satisfied: requests-toolbelt<2.0.0,>=1.0.0 in c:\\users\\nomisha\\anaconda4\\lib\\site-packages (from langsmith<0.4,>=0.1.17->langchain) (1.0.0)\n",
      "Requirement already satisfied: zstandard<0.24.0,>=0.23.0 in c:\\users\\nomisha\\anaconda4\\lib\\site-packages (from langsmith<0.4,>=0.1.17->langchain) (0.23.0)\n",
      "Requirement already satisfied: coloredlogs in c:\\users\\nomisha\\anaconda4\\lib\\site-packages (from onnxruntime>=1.14.1->chromadb) (15.0.1)\n",
      "Requirement already satisfied: flatbuffers in c:\\users\\nomisha\\anaconda4\\lib\\site-packages (from onnxruntime>=1.14.1->chromadb) (25.2.10)\n",
      "Requirement already satisfied: protobuf in c:\\users\\nomisha\\anaconda4\\lib\\site-packages (from onnxruntime>=1.14.1->chromadb) (5.29.4)\n",
      "Requirement already satisfied: sympy in c:\\users\\nomisha\\anaconda4\\lib\\site-packages (from onnxruntime>=1.14.1->chromadb) (1.11.1)\n",
      "Requirement already satisfied: deprecated>=1.2.6 in c:\\users\\nomisha\\appdata\\roaming\\python\\python311\\site-packages (from opentelemetry-api>=1.2.0->chromadb) (1.2.18)\n",
      "Requirement already satisfied: importlib-metadata<8.7.0,>=6.0 in c:\\users\\nomisha\\anaconda4\\lib\\site-packages (from opentelemetry-api>=1.2.0->chromadb) (6.0.0)\n",
      "Requirement already satisfied: googleapis-common-protos~=1.52 in c:\\users\\nomisha\\anaconda4\\lib\\site-packages (from opentelemetry-exporter-otlp-proto-grpc>=1.2.0->chromadb) (1.69.2)\n",
      "Requirement already satisfied: opentelemetry-exporter-otlp-proto-common==1.31.1 in c:\\users\\nomisha\\anaconda4\\lib\\site-packages (from opentelemetry-exporter-otlp-proto-grpc>=1.2.0->chromadb) (1.31.1)\n",
      "Requirement already satisfied: opentelemetry-proto==1.31.1 in c:\\users\\nomisha\\anaconda4\\lib\\site-packages (from opentelemetry-exporter-otlp-proto-grpc>=1.2.0->chromadb) (1.31.1)\n",
      "Requirement already satisfied: opentelemetry-instrumentation-asgi==0.52b1 in c:\\users\\nomisha\\anaconda4\\lib\\site-packages (from opentelemetry-instrumentation-fastapi>=0.41b0->chromadb) (0.52b1)\n",
      "Requirement already satisfied: opentelemetry-instrumentation==0.52b1 in c:\\users\\nomisha\\anaconda4\\lib\\site-packages (from opentelemetry-instrumentation-fastapi>=0.41b0->chromadb) (0.52b1)\n",
      "Requirement already satisfied: opentelemetry-semantic-conventions==0.52b1 in c:\\users\\nomisha\\anaconda4\\lib\\site-packages (from opentelemetry-instrumentation-fastapi>=0.41b0->chromadb) (0.52b1)\n",
      "Requirement already satisfied: opentelemetry-util-http==0.52b1 in c:\\users\\nomisha\\anaconda4\\lib\\site-packages (from opentelemetry-instrumentation-fastapi>=0.41b0->chromadb) (0.52b1)\n",
      "Requirement already satisfied: wrapt<2.0.0,>=1.0.0 in c:\\users\\nomisha\\appdata\\roaming\\python\\python311\\site-packages (from opentelemetry-instrumentation==0.52b1->opentelemetry-instrumentation-fastapi>=0.41b0->chromadb) (1.17.2)\n",
      "Requirement already satisfied: asgiref~=3.0 in c:\\users\\nomisha\\anaconda4\\lib\\site-packages (from opentelemetry-instrumentation-asgi==0.52b1->opentelemetry-instrumentation-fastapi>=0.41b0->chromadb) (3.8.1)\n",
      "Requirement already satisfied: monotonic>=1.5 in c:\\users\\nomisha\\anaconda4\\lib\\site-packages (from posthog>=2.4.0->chromadb) (1.6)\n",
      "Requirement already satisfied: backoff>=1.10.0 in c:\\users\\nomisha\\anaconda4\\lib\\site-packages (from posthog>=2.4.0->chromadb) (2.2.1)\n",
      "Requirement already satisfied: annotated-types>=0.6.0 in c:\\users\\nomisha\\appdata\\roaming\\python\\python311\\site-packages (from pydantic<3.0.0,>=2.7.4->langchain) (0.7.0)\n",
      "Requirement already satisfied: pydantic-core==2.27.2 in c:\\users\\nomisha\\appdata\\roaming\\python\\python311\\site-packages (from pydantic<3.0.0,>=2.7.4->langchain) (2.27.2)\n",
      "Requirement already satisfied: charset-normalizer<4,>=2 in c:\\users\\nomisha\\appdata\\roaming\\python\\python311\\site-packages (from requests<3,>=2->langchain) (3.4.1)\n",
      "Requirement already satisfied: markdown-it-py>=2.2.0 in c:\\users\\nomisha\\anaconda4\\lib\\site-packages (from rich>=10.11.0->chromadb) (2.2.0)\n",
      "Requirement already satisfied: pygments<3.0.0,>=2.13.0 in c:\\users\\nomisha\\anaconda4\\lib\\site-packages (from rich>=10.11.0->chromadb) (2.15.1)\n",
      "Requirement already satisfied: greenlet!=0.4.17 in c:\\users\\nomisha\\appdata\\roaming\\python\\python311\\site-packages (from SQLAlchemy<3,>=1.4->langchain) (3.1.1)\n",
      "Requirement already satisfied: huggingface-hub<1.0,>=0.16.4 in c:\\users\\nomisha\\anaconda4\\lib\\site-packages (from tokenizers>=0.13.2->chromadb) (0.29.3)\n",
      "Requirement already satisfied: click>=8.0.0 in c:\\users\\nomisha\\appdata\\roaming\\python\\python311\\site-packages (from typer>=0.9.0->chromadb) (8.1.8)\n",
      "Requirement already satisfied: shellingham>=1.3.0 in c:\\users\\nomisha\\anaconda4\\lib\\site-packages (from typer>=0.9.0->chromadb) (1.5.4)\n",
      "Requirement already satisfied: httptools>=0.6.3 in c:\\users\\nomisha\\anaconda4\\lib\\site-packages (from uvicorn[standard]>=0.18.3->chromadb) (0.6.4)\n",
      "Requirement already satisfied: python-dotenv>=0.13 in c:\\users\\nomisha\\appdata\\roaming\\python\\python311\\site-packages (from uvicorn[standard]>=0.18.3->chromadb) (1.0.1)\n",
      "Requirement already satisfied: watchfiles>=0.13 in c:\\users\\nomisha\\anaconda4\\lib\\site-packages (from uvicorn[standard]>=0.18.3->chromadb) (1.0.4)\n",
      "Requirement already satisfied: websockets>=10.4 in c:\\users\\nomisha\\anaconda4\\lib\\site-packages (from uvicorn[standard]>=0.18.3->chromadb) (15.0.1)\n",
      "Requirement already satisfied: cachetools<6.0,>=2.0.0 in c:\\users\\nomisha\\anaconda4\\lib\\site-packages (from google-auth>=1.0.1->kubernetes>=28.1.0->chromadb) (5.5.2)\n",
      "Requirement already satisfied: pyasn1-modules>=0.2.1 in c:\\users\\nomisha\\anaconda4\\lib\\site-packages (from google-auth>=1.0.1->kubernetes>=28.1.0->chromadb) (0.2.8)\n",
      "Requirement already satisfied: rsa<5,>=3.1.4 in c:\\users\\nomisha\\anaconda4\\lib\\site-packages (from google-auth>=1.0.1->kubernetes>=28.1.0->chromadb) (4.9)\n",
      "Requirement already satisfied: filelock in c:\\users\\nomisha\\anaconda4\\lib\\site-packages (from huggingface-hub<1.0,>=0.16.4->tokenizers>=0.13.2->chromadb) (3.9.0)\n",
      "Requirement already satisfied: fsspec>=2023.5.0 in c:\\users\\nomisha\\appdata\\roaming\\python\\python311\\site-packages (from huggingface-hub<1.0,>=0.16.4->tokenizers>=0.13.2->chromadb) (2025.2.0)\n",
      "Requirement already satisfied: zipp>=0.5 in c:\\users\\nomisha\\anaconda4\\lib\\site-packages (from importlib-metadata<8.7.0,>=6.0->opentelemetry-api>=1.2.0->chromadb) (3.11.0)\n",
      "Requirement already satisfied: jsonpointer>=1.9 in c:\\users\\nomisha\\anaconda4\\lib\\site-packages (from jsonpatch<2.0,>=1.33->langchain-core<1.0.0,>=0.3.45->langchain) (2.1)\n",
      "Requirement already satisfied: mdurl~=0.1 in c:\\users\\nomisha\\anaconda4\\lib\\site-packages (from markdown-it-py>=2.2.0->rich>=10.11.0->chromadb) (0.1.0)\n",
      "Requirement already satisfied: humanfriendly>=9.1 in c:\\users\\nomisha\\anaconda4\\lib\\site-packages (from coloredlogs->onnxruntime>=1.14.1->chromadb) (10.0)\n",
      "Requirement already satisfied: mpmath>=0.19 in c:\\users\\nomisha\\anaconda4\\lib\\site-packages (from sympy->onnxruntime>=1.14.1->chromadb) (1.2.1)\n",
      "Requirement already satisfied: pyreadline3 in c:\\users\\nomisha\\anaconda4\\lib\\site-packages (from humanfriendly>=9.1->coloredlogs->onnxruntime>=1.14.1->chromadb) (3.5.4)\n",
      "Requirement already satisfied: pyasn1<0.5.0,>=0.4.6 in c:\\users\\nomisha\\anaconda4\\lib\\site-packages (from pyasn1-modules>=0.2.1->google-auth>=1.0.1->kubernetes>=28.1.0->chromadb) (0.4.8)\n",
      "Note: you may need to restart the kernel to use updated packages.\n"
     ]
    }
   ],
   "source": [
    "pip install langchain openai chromadb pandas pypdf python-docx\n"
   ]
  },
  {
   "cell_type": "code",
   "execution_count": null,
   "id": "1609887f",
   "metadata": {},
   "outputs": [],
   "source": [
    "\n",
    "\n",
    "\n",
    "\n"
   ]
  },
  {
   "cell_type": "markdown",
   "id": "48a333d0",
   "metadata": {},
   "source": [
    "# 2 Load Required Libraries:\n",
    "os → Handles file paths.\n",
    "\n",
    "pandas → Loads CSV/Excel files for structured data.\n",
    "\n",
    "chromadb → Stores vector embeddings for fast text retrieval.\n",
    "\n",
    "PyPDFLoader → Extracts text from PDFs.\n",
    "\n",
    "TextLoader → Reads text files.\n",
    "\n",
    "HuggingFaceEmbeddings → Converts text into numerical vector embeddings.\n",
    "\n",
    "Chroma → Stores these embeddings in a vector database.\n",
    "\n",
    "OpenAI → Calls the GPT model to generate responses.\n",
    "\n",
    "ConversationalRetrievalChain → Uses OpenAI and embeddings to answer queries.\n",
    "\n",
    "ConversationBufferMemory → Stores conversation history for context-aware answers.\n",
    "\n"
   ]
  },
  {
   "cell_type": "code",
   "execution_count": null,
   "id": "5ecdf4be",
   "metadata": {},
   "outputs": [],
   "source": [
    "import os\n",
    "import pandas as pd\n",
    "import chromadb\n",
    "from langchain.document_loaders import PyPDFLoader, TextLoader\n",
    "from langchain.embeddings import HuggingFaceEmbeddings\n",
    "from langchain.vectorstores import Chroma\n",
    "from langchain.llms import OpenAI\n",
    "from langchain.chains import ConversationalRetrievalChain\n",
    "langchain.memory import ConversationBufferMemory\n",
    "\n"
   ]
  },
  {
   "cell_type": "markdown",
   "id": "acf50ac8",
   "metadata": {},
   "source": [
    "# 3.Define Chatbot Class\n",
    "class Chatbot: → Defines a chatbot class.\n",
    "\n",
    "def init(self): → Constructor method that initializes the chatbot.\n",
    "\n",
    "self.embeddings = HuggingFaceEmbeddings() → Loads the Hugging Face model to create embeddings.\n",
    "\n",
    "self.vector_db = None → Placeholder for the Chroma vector database.\n",
    "\n",
    "self.memory = ConversationBufferMemory(memory_key=\"chat_history\") → Stores past conversations."
   ]
  },
  {
   "cell_type": "code",
   "execution_count": null,
   "id": "241ea4b9",
   "metadata": {},
   "outputs": [],
   "source": [
    "class Chatbot:\n",
    "    def __init__(self):\n",
    "        self.embeddings = HuggingFaceEmbeddings()\n",
    "        self.vector_db = None\n",
    "        self.memory = ConversationBufferMemory(memory_key=\"chat_history\")\n"
   ]
  },
  {
   "cell_type": "markdown",
   "id": "a934ac51",
   "metadata": {},
   "source": [
    "# 4. Load & Process Documents:\n",
    "def load_document(self, file_path): → Function to load documents.\n",
    "\n",
    "ext = os.path.splitext(file_path)[1] → Extracts the file extension.\n",
    "\n",
    "if ext == \".pdf\": → Checks if the file is a PDF.\n",
    "\n",
    "loader = PyPDFLoader(file_path) → Uses PyPDFLoader for PDFs.\n",
    "\n",
    "elif ext == \".txt\": → Checks if the file is a text file.\n",
    "\n",
    "loader = TextLoader(file_path) → Uses TextLoader for text files.\n",
    "\n",
    "else: return \"Unsupported file format\" → Rejects unsupported formats.\n",
    "\n",
    "docs = loader.load() → Loads and extracts text from the document.\n",
    "\n",
    "self.store_embeddings(docs) → Calls the store_embeddings function to save embeddings."
   ]
  },
  {
   "cell_type": "code",
   "execution_count": null,
   "id": "ff27ea42",
   "metadata": {},
   "outputs": [],
   "source": [
    " def load_document(self, file_path):\n",
    "        ext = os.path.splitext(file_path)[1]\n",
    "        if ext == \".pdf\":\n",
    "            loader = PyPDFLoader(file_path)\n",
    "        elif ext == \".txt\":\n",
    "            loader = TextLoader(file_path)\n",
    "        else:\n",
    "            return \"Unsupported file format\"\n",
    "\n",
    "        docs = loader.load()\n",
    "        self.store_embeddings(docs)\n"
   ]
  },
  {
   "cell_type": "markdown",
   "id": "b2334a19",
   "metadata": {},
   "source": [
    "# 5. Store Embeddings in ChromaDB:\n",
    "def store_embeddings(self, docs): → Function to create and store text embeddings.\n",
    "\n",
    "self.vector_db = Chroma.from_documents(docs, self.embeddings) → Converts documents into vector embeddings and stores them in ChromaDB.\n"
   ]
  },
  {
   "cell_type": "code",
   "execution_count": null,
   "id": "4cead47f",
   "metadata": {},
   "outputs": [],
   "source": [
    "def store_embeddings(self, docs):\n",
    "        self.vector_db = Chroma.from_documents(docs, self.embeddings)"
   ]
  },
  {
   "cell_type": "markdown",
   "id": "db37de5e",
   "metadata": {},
   "source": [
    "# 6. Answer User Queries:\n",
    "def answer_query(self, query): → Function to process user queries.\n",
    "\n",
    "retriever = self.vector_db.as_retriever() → Retrieves relevant document parts from ChromaDB.\n",
    "\n",
    "qa_chain = ConversationalRetrievalChain.from_llm(...) → Creates a question-answering chain.\n",
    "\n",
    "llm=OpenAI() → Uses OpenAI’s GPT model.\n",
    "\n",
    "retriever=retriever → Uses the retriever to find relevant document parts.\n",
    "\n",
    "memory=self.memory → Stores conversation history.\n",
    "\n",
    "return qa_chain.run(query) → Runs the query and returns the response."
   ]
  },
  {
   "cell_type": "code",
   "execution_count": null,
   "id": "a8331726",
   "metadata": {},
   "outputs": [],
   "source": [
    "    def answer_query(self, query):\n",
    "        retriever = self.vector_db.as_retriever()\n",
    "        qa_chain = ConversationalRetrievalChain.from_llm(\n",
    "            llm=OpenAI(),\n",
    "            retriever=retriever,\n",
    "            memory=self.memory\n",
    "        )\n",
    "        return qa_chain.run(query)\n"
   ]
  },
  {
   "cell_type": "markdown",
   "id": "39904e82",
   "metadata": {},
   "source": [
    "# 7. Running the Chatbot:\n",
    "bot = Chatbot() → Creates a chatbot instance.\n",
    "\n",
    "bot.load_document(\"example.pdf\") → Loads and processes a sample PDF.\n",
    "\n",
    "response = bot.answer_query(\"What is the main topic of the document?\") → Asks a question about the document.\n",
    "\n",
    "print(response) → Prints the chatbot’s response."
   ]
  },
  {
   "cell_type": "code",
   "execution_count": null,
   "id": "056629d0",
   "metadata": {},
   "outputs": [],
   "source": [
    "\n",
    "bot = Chatbot()\n",
    "bot.load_document(\"example.pdf\")  # Load a document\n",
    "response = bot.answer_query(\"What is the main topic of the document?\")\n",
    "print(response)\n",
    "\n"
   ]
  },
  {
   "cell_type": "markdown",
   "id": "0eb87b00",
   "metadata": {},
   "source": [
    "# How It Works\n",
    "User uploads a document (PDF, TXT, etc.).\n",
    "\n",
    "Chatbot extracts text and converts it into vector embeddings.\n",
    "\n",
    "Embeddings are stored in ChromaDB for retrieval.\n",
    "\n",
    "User asks a question, and the chatbot retrieves relevant information.\n",
    "\n",
    "GPT generates a response based on the document content."
   ]
  },
  {
   "cell_type": "code",
   "execution_count": null,
   "id": "5b862190",
   "metadata": {},
   "outputs": [],
   "source": [
    "\n",
    "\n"
   ]
  },
  {
   "cell_type": "code",
   "execution_count": null,
   "id": "7d09eac1",
   "metadata": {},
   "outputs": [],
   "source": []
  },
  {
   "cell_type": "code",
   "execution_count": null,
   "id": "c9ee0877",
   "metadata": {},
   "outputs": [],
   "source": []
  },
  {
   "cell_type": "code",
   "execution_count": null,
   "id": "8b380542",
   "metadata": {},
   "outputs": [],
   "source": []
  }
 ],
 "metadata": {
  "kernelspec": {
   "display_name": "Python 3 (ipykernel)",
   "language": "python",
   "name": "python3"
  },
  "language_info": {
   "codemirror_mode": {
    "name": "ipython",
    "version": 3
   },
   "file_extension": ".py",
   "mimetype": "text/x-python",
   "name": "python",
   "nbconvert_exporter": "python",
   "pygments_lexer": "ipython3",
   "version": "3.11.3"
  }
 },
 "nbformat": 4,
 "nbformat_minor": 5
}
